{
  "nbformat": 4,
  "nbformat_minor": 0,
  "metadata": {
    "colab": {
      "provenance": []
    },
    "kernelspec": {
      "name": "python3",
      "display_name": "Python 3"
    },
    "language_info": {
      "name": "python"
    }
  },
  "cells": [
    {
      "cell_type": "code",
      "execution_count": null,
      "metadata": {
        "colab": {
          "base_uri": "https://localhost:8080/"
        },
        "id": "KxGjiRct8lKZ",
        "outputId": "be476c06-7f1b-4122-e0f6-39ec3d19b419"
      },
      "outputs": [
        {
          "output_type": "stream",
          "name": "stdout",
          "text": [
            "Mounted at /content/drive\n"
          ]
        }
      ],
      "source": [
        "from google.colab import drive\n",
        "drive.mount('/content/drive')"
      ]
    },
    {
      "cell_type": "code",
      "source": [
        "import os\n",
        "os.chdir('/content/drive/MyDrive/VERIYAPILARI_ISTKA')"
      ],
      "metadata": {
        "id": "C5KhXJBX85KD"
      },
      "execution_count": null,
      "outputs": []
    },
    {
      "cell_type": "code",
      "source": [
        "#for dongüsü ile 0 ile 4 arasındaki sayıların yazdıran program\n",
        "for i in range(5):\n",
        "  print(i)"
      ],
      "metadata": {
        "colab": {
          "base_uri": "https://localhost:8080/"
        },
        "id": "9ciR-LuME4kw",
        "outputId": "be40eb01-0709-4cd7-85b7-ea7269c9f0bd"
      },
      "execution_count": null,
      "outputs": [
        {
          "output_type": "stream",
          "name": "stdout",
          "text": [
            "0\n",
            "1\n",
            "2\n",
            "3\n",
            "4\n"
          ]
        }
      ]
    },
    {
      "cell_type": "code",
      "source": [
        "#for ile listedeki alınacakları yazdıran kod\n",
        "liste=[\"elma\",\"ekmek\",\"süt\",\"biber\"]\n",
        "for alinacaklar in liste:\n",
        "  print(alinacaklar)"
      ],
      "metadata": {
        "colab": {
          "base_uri": "https://localhost:8080/"
        },
        "id": "rHEVadbLFU3h",
        "outputId": "3716c349-5993-45e6-a771-beb4ef137669"
      },
      "execution_count": null,
      "outputs": [
        {
          "output_type": "stream",
          "name": "stdout",
          "text": [
            "elma\n",
            "ekmek\n",
            "süt\n",
            "biber\n"
          ]
        }
      ]
    },
    {
      "cell_type": "code",
      "source": [
        "#for döngüsü ile sınıfdaki öğrencilerin ortalamasının programı\n",
        "notlar=[85,92,78,90,88]\n",
        "toplam=0\n",
        "for note in notlar:\n",
        "  toplam+=note\n",
        "ortalama=toplam/len(notlar)\n",
        "print(\"Sınıfın ortalaması:\",ortalama)\n",
        "\n",
        "print(f\"Sınıfın ortalaması: {ortalama}\")"
      ],
      "metadata": {
        "colab": {
          "base_uri": "https://localhost:8080/"
        },
        "id": "vRDHNtRISL9O",
        "outputId": "a4ba0937-dd1c-407d-8a86-59d09ca75b09"
      },
      "execution_count": null,
      "outputs": [
        {
          "output_type": "stream",
          "name": "stdout",
          "text": [
            "Sınıfın ortalaması: 86.6\n",
            "Sınıfın ortalaması: 86.6\n"
          ]
        }
      ]
    },
    {
      "cell_type": "code",
      "source": [
        "#while döngüsü ile 0'dan 4'e kadar sayıları yazdıran program\n",
        "i=0\n",
        "while i<5:\n",
        "  print(i)\n",
        "  i+=1"
      ],
      "metadata": {
        "colab": {
          "base_uri": "https://localhost:8080/"
        },
        "id": "BiSleI70Vwjd",
        "outputId": "8937ad7c-9b61-4abf-d599-7bd63a1265b1"
      },
      "execution_count": null,
      "outputs": [
        {
          "output_type": "stream",
          "name": "stdout",
          "text": [
            "0\n",
            "1\n",
            "2\n",
            "3\n",
            "4\n"
          ]
        }
      ]
    },
    {
      "cell_type": "code",
      "source": [
        "notes=[70,80,90,100,50]\n",
        "toplam=0\n",
        "i=0\n",
        "while i<len(notes):\n",
        "  toplam+=notes[i]\n",
        "  i+=1\n",
        "ortalama=toplam/len(notes)\n",
        "print(\"Sınıfın ortalaması:\",ortalama)"
      ],
      "metadata": {
        "colab": {
          "base_uri": "https://localhost:8080/"
        },
        "id": "AMJg8p-jWFv0",
        "outputId": "25e87e73-5a8d-4821-e7d5-3821dc70ce4b"
      },
      "execution_count": null,
      "outputs": [
        {
          "output_type": "stream",
          "name": "stdout",
          "text": [
            "Sınıfın ortalaması: 78.0\n"
          ]
        }
      ]
    },
    {
      "cell_type": "code",
      "source": [
        "user_input=int(input(\"Bir Sayı Giriniz\"))\n",
        "i=0\n",
        "while i<user_input:\n",
        "  print(i)\n",
        "  i+=1"
      ],
      "metadata": {
        "colab": {
          "base_uri": "https://localhost:8080/"
        },
        "id": "PC9FzHh9XYvs",
        "outputId": "1cb1a743-5451-4360-827d-16d3d1c2fb54"
      },
      "execution_count": null,
      "outputs": [
        {
          "output_type": "stream",
          "name": "stdout",
          "text": [
            "Bir Sayı Giriniz10\n",
            "0\n",
            "1\n",
            "2\n",
            "3\n",
            "4\n",
            "5\n",
            "6\n",
            "7\n",
            "8\n",
            "9\n"
          ]
        }
      ]
    },
    {
      "cell_type": "code",
      "source": [
        "#break komutu ile 5 e kadar olan sayıları 3.sayıda döngüyü kırıp yazdıran kod\n",
        "for i in range(5):\n",
        "  if i==3:\n",
        "    break\n",
        "  print(i)"
      ],
      "metadata": {
        "colab": {
          "base_uri": "https://localhost:8080/"
        },
        "id": "5wZq8HCJYLPF",
        "outputId": "30840af1-dd78-4c8f-aee6-e6e9c1cf4cad"
      },
      "execution_count": null,
      "outputs": [
        {
          "output_type": "stream",
          "name": "stdout",
          "text": [
            "0\n",
            "1\n",
            "2\n"
          ]
        }
      ]
    },
    {
      "cell_type": "code",
      "source": [
        "#continue komutu ile 5 e kadar olan sayıları 3.sayıda sayıyı es geçip yazdıran kod\n",
        "for i in range(5):\n",
        "  if i==3:\n",
        "    continue\n",
        "  print(i)"
      ],
      "metadata": {
        "colab": {
          "base_uri": "https://localhost:8080/"
        },
        "id": "PNqG7dGKYShz",
        "outputId": "4c4c4c83-a840-45dc-ed3c-b4731c9f84f1"
      },
      "execution_count": null,
      "outputs": [
        {
          "output_type": "stream",
          "name": "stdout",
          "text": [
            "0\n",
            "1\n",
            "2\n",
            "4\n"
          ]
        }
      ]
    },
    {
      "cell_type": "code",
      "source": [
        "#iç içe for ile 2 boyutlu bir matrisin elemanları üzerinde işlemler\n",
        "matris=[\n",
        "    [1,2,3],\n",
        "     [4,5,6],\n",
        "      [7,8,9]]\n",
        "for satir in matris:\n",
        "  for eleman in satir:\n",
        "    print(eleman)"
      ],
      "metadata": {
        "colab": {
          "base_uri": "https://localhost:8080/"
        },
        "id": "WYg8TxjtZvmy",
        "outputId": "31b8cb37-8044-4a32-fd3d-055b3ad1a6e3"
      },
      "execution_count": null,
      "outputs": [
        {
          "output_type": "stream",
          "name": "stdout",
          "text": [
            "1\n",
            "2\n",
            "3\n",
            "4\n",
            "5\n",
            "6\n",
            "7\n",
            "8\n",
            "9\n"
          ]
        }
      ]
    },
    {
      "cell_type": "code",
      "source": [
        "\n",
        "while True:\n",
        "  try:\n",
        "    gelen_bilgi=int(input(\"Bir Sayı Giriniz\"))\n",
        "    break\n",
        "\n",
        "  except ValueError:\n",
        "    print(\"Lütfen Sadece Sayı Giriniz\")\n",
        "i=0\n",
        "while i<=gelen_bilgi:\n",
        "  print(i)\n",
        "  i+=1\n"
      ],
      "metadata": {
        "id": "pNYDPE3baYEU"
      },
      "execution_count": null,
      "outputs": []
    },
    {
      "cell_type": "code",
      "source": [
        "hesap = 1000\n",
        "\n",
        "while hesap > 0:\n",
        "    try:\n",
        "        cekilen_tutar = int(input(\"Çekmek istediğiniz miktarı girin: \"))\n",
        "        if cekilen_tutar > hesap:\n",
        "            print(\"Yetersiz bakiye!\")\n",
        "            bilgi = input(\"İşleme devam etmek istiyor musunuz? (e/h): \").lower()\n",
        "            if bilgi == \"h\":\n",
        "                print(\"İşlem sonlandırıldı.\")\n",
        "                break\n",
        "            elif bilgi==\"e\":\n",
        "              continue\n",
        "        else:\n",
        "            hesap -= cekilen_tutar\n",
        "            print(f\"Kalan bakiye: {hesap}\")\n",
        "\n",
        "        if hesap == 0:\n",
        "            print(\"Bakiye tükendi.\")\n",
        "            bilgi = input(\"İşleme devam etmek istiyor musunuz? (e/h): \").lower()\n",
        "            if bilgi == \"h\":\n",
        "              print(\"İşlem sonlandırıldı.\")\n",
        "              break\n",
        "            elif bilgi==\"e\":\n",
        "\n",
        "              eklenecek_tutar=int(input(\"Yatırmak istediğiniz tutarı girin: \"))\n",
        "              hesap+=eklenecek_tutar\n",
        "              print(f\"Yeni bakiye: {hesap}\")\n",
        "\n",
        "    except ValueError:\n",
        "        print(\"Lütfen geçerli bir sayı girin!\")\n",
        "\n",
        "while hesap<0:\n",
        "  try:\n",
        "    eklenecek_tutar = int(input(\"Çekmek istediğiniz miktarı girin: \"))\n",
        "    hesap += eklenecek_tutar\n",
        "    print(f\"Yeni bakiye: {hesap}\")\n",
        "\n",
        "  except ValueError:\n",
        "    print(\"Lütfen geçerli bir sayı girin!\")\n"
      ],
      "metadata": {
        "id": "igwLe9e-rPz5"
      },
      "execution_count": null,
      "outputs": []
    }
  ]
}